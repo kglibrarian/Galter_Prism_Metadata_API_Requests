{
 "cells": [
  {
   "cell_type": "code",
   "execution_count": null,
   "id": "4c9e5085",
   "metadata": {},
   "outputs": [],
   "source": [
    "# Dependencies\n",
    "import requests\n",
    "from requests.exceptions import HTTPError\n",
    "import json\n",
    "import pandas as pd\n",
    "import numpy as np\n",
    "import re\n",
    "import io\n",
    "from config import api_key_prism\n",
    "from collections import OrderedDict\n",
    "from pandas.io.json import json_normalize  \n",
    "import time \n",
    "import urllib.request\n",
    "from pprint import pprint\n",
    "import pickle\n",
    "import os\n",
    "from ast import literal_eval\n",
    "import pickle"
   ]
  },
  {
   "cell_type": "code",
   "execution_count": null,
   "id": "deec4c38",
   "metadata": {},
   "outputs": [],
   "source": [
    "# os.getcwd()"
   ]
  },
  {
   "cell_type": "code",
   "execution_count": null,
   "id": "15487578",
   "metadata": {},
   "outputs": [],
   "source": [
    "## Load final datafram from DigitalHub: final_re_ordered_df\n",
    "\n",
    "## File to Load\n",
    "# file_path_1 = r'outputs/final_re_ordered_df.xlsx'\n",
    "\n",
    "# digitalhub_collections_data = pd.read_excel(file_path_1)  \n",
    "# digitalhub_collections_data.head()\n"
   ]
  },
  {
   "cell_type": "code",
   "execution_count": null,
   "id": "1657a631",
   "metadata": {},
   "outputs": [],
   "source": [
    "with open(\"outputs/final_re_ordered_df_pickle\", \"rb\") as fp:   # Unpickling\n",
    "    digitalhub_collections_data = pickle.load(fp)"
   ]
  },
  {
   "cell_type": "code",
   "execution_count": null,
   "id": "12a6a715",
   "metadata": {},
   "outputs": [],
   "source": [
    "digitalhub_collections_data['DOI_2']= digitalhub_collections_data['DOI'].fillna('')\n",
    "digitalhub_collections_data.head(50)\n",
    "\n",
    "## Resources\n",
    "## https://stackoverflow.com/questions/26837998/pandas-replace-nan-with-blank-empty-string"
   ]
  },
  {
   "cell_type": "code",
   "execution_count": null,
   "id": "9127b3a4",
   "metadata": {},
   "outputs": [],
   "source": [
    "result = digitalhub_collections_data.dtypes\n",
    "print(result)\n",
    "# digitalhub_collections_data['DOI_3'] = digitalhub_collections_data['DOI_2'].apply(literal_eval)\n",
    "\n",
    "\n",
    "# digitalhub_collections_data['DOI_3'] = digitalhub_collections_data.loc[:,'DOI_2'].apply(lambda x: literal_eval(x))\n",
    "# digitalhub_collections_data.head()"
   ]
  },
  {
   "cell_type": "code",
   "execution_count": null,
   "id": "1413b262",
   "metadata": {},
   "outputs": [],
   "source": [
    "## Identify which rows have 2 DOIs\n",
    "\n",
    "digitalhub_collections_data['DOI_3'] = digitalhub_collections_data['DOI_2'].str.strip('\\\"')\n",
    "\n",
    "# result = digitalhub_collections_data.dtypes\n",
    "# print(result)\n",
    "\n",
    "# digitalhub_collections_data['DOI_4'] = digitalhub_collections_data['DOI_3'].apply(lambda x: x[1:-1].split(','))\n",
    "# digitalhub_collections_data['DOI_4'] = digitalhub_collections_data['DOI_3'].astype(str).replace({\"\\[\":\"\", \"\\]\":\"\"}, regex=True)\n",
    "digitalhub_collections_data['DOI_4'] = digitalhub_collections_data['DOI_2'].str.join(',')\n",
    "digitalhub_collections_data[\"DOI_5\"] = digitalhub_collections_data['DOI_4'].map(lambda x: x.lstrip('doi:'))\n",
    "\n",
    "\n",
    "digitalhub_collections_data.head(50)  \n",
    "\n",
    "## Resources\n",
    "## https://stackoverflow.com/questions/38147447/how-to-remove-square-bracket-from-pandas-dataframe"
   ]
  },
  {
   "cell_type": "code",
   "execution_count": null,
   "id": "87eba2ff",
   "metadata": {},
   "outputs": [],
   "source": [
    "## Identify which rows have 2 DOIs\n",
    "\n",
    "for doi_list in digitalhub_collections_data['DOI_5']: \n",
    "    if len(doi_list) > 1:\n",
    "        test = doi_list[0]\n",
    "#         print(test[0])\n",
    "\n",
    "## Resources\n",
    "## https://stackoverflow.com/questions/23111990/pandas-dataframe-stored-list-as-string-how-to-convert-back-to-list\n",
    "## https://stackoverflow.com/questions/944700/how-can-i-check-for-nan-values"
   ]
  },
  {
   "cell_type": "code",
   "execution_count": null,
   "id": "4d1bc3b5",
   "metadata": {},
   "outputs": [],
   "source": [
    "# ## Strip characters from DOI field\n",
    "\n",
    "# digitalhub_collections_data['DOI_5'] = digitalhub_collections_data['DOI_2'].map(lambda x: x.lstrip(\"['doi:\").rstrip(\"']\"))\n",
    "# #digitalhub_collections_data['DOI_2'] = digitalhub_collections_data['DOI_2'].astype(str).str.replace('\\D+', '')\n",
    "# digitalhub_collections_data.head(50)"
   ]
  },
  {
   "cell_type": "code",
   "execution_count": null,
   "id": "e43db956",
   "metadata": {},
   "outputs": [],
   "source": [
    "## Export file to excel, without the Pandas index, but with the header\n",
    "\n",
    "digitalhub_collections_data.to_excel(\"outputs/digitalhub_collections_data.xlsx\", index=False, header=True)\n",
    "\n",
    "## Checked: No problems"
   ]
  },
  {
   "cell_type": "code",
   "execution_count": null,
   "id": "f253d587",
   "metadata": {},
   "outputs": [],
   "source": [
    "## Load final dataframe from Prism: remove_nest_df_2\n",
    "\n",
    "## File to Load\n",
    "file_path_2 = r'outputs/remove_nest_df_2.xlsx'\n",
    "\n",
    "prism_community_data = pd.read_excel(file_path_2)  \n",
    "prism_community_data.head()\n"
   ]
  },
  {
   "cell_type": "code",
   "execution_count": null,
   "id": "7daf7b57",
   "metadata": {},
   "outputs": [],
   "source": [
    "## Replace DOIs with 24418 to 18131 \n",
    "\n",
    "# replace all instances of '24418' with '18131 '\n",
    "# new_string = string.replace(\"r\", \"e\" )\n",
    "\n",
    "prism_community_data['doi_1'] = prism_community_data['doi'].replace({'24418': '18131'}, regex=True)\n",
    "\n",
    "prism_community_data.head()\n",
    "\n",
    "## Resources\n",
    "## https://stackoverflow.com/questions/38565849/pandas-replace-substring-in-string"
   ]
  },
  {
   "cell_type": "code",
   "execution_count": null,
   "id": "c3314340",
   "metadata": {},
   "outputs": [],
   "source": [
    "## Export file to excel, without the Pandas index, but with the header\n",
    "\n",
    "prism_community_data.to_excel(\"outputs/prism_community_data_to_check.xlsx\", index=False, header=True)\n",
    "\n",
    "## Checked: No problems"
   ]
  },
  {
   "cell_type": "code",
   "execution_count": null,
   "id": "5779e89a",
   "metadata": {},
   "outputs": [],
   "source": [
    "## Get different rows\n",
    "## \"\"\"Returns just the rows from the new dataframe that differ from the source dataframe\"\"\"\n",
    "merged_df = digitalhub_collections_data.merge(prism_community_data, left_on= 'DOI_5', right_on = 'doi_1', indicator=True, how='outer')\n",
    "changed_rows_df = merged_df[merged_df['_merge'] == 'right_only']\n",
    "changed_rows_df.drop('_merge', axis=1)\n",
    "  "
   ]
  },
  {
   "cell_type": "code",
   "execution_count": null,
   "id": "308c0f25",
   "metadata": {},
   "outputs": [],
   "source": [
    "## Export file to excel, without the Pandas index, but with the header\n",
    "\n",
    "changed_rows_df.to_excel(\"outputs/changed_rows_df.xlsx\", index=False, header=True)\n",
    "\n",
    "## Checked: No problems"
   ]
  },
  {
   "cell_type": "code",
   "execution_count": null,
   "id": "f346f399",
   "metadata": {},
   "outputs": [],
   "source": [
    "## Get different rows\n",
    "## \"\"\"Returns just the rows from the new dataframe that differ from the source dataframe\"\"\"\n",
    "merged_df_2 = prism_community_data.merge(digitalhub_collections_data, left_on= 'doi_1', right_on = 'DOI_5', indicator=True, how='outer')\n",
    "changed_rows_df_2 = merged_df_2[merged_df_2['_merge'] == 'right_only']\n",
    "changed_rows_df_2.drop('_merge', axis=1)"
   ]
  },
  {
   "cell_type": "code",
   "execution_count": null,
   "id": "be35a955",
   "metadata": {},
   "outputs": [],
   "source": [
    "## Export file to excel, without the Pandas index, but with the header\n",
    "\n",
    "changed_rows_df_2.to_excel(\"outputs/changed_rows_df_2.xlsx\", index=False, header=True)\n",
    "\n",
    "## Checked: No problems"
   ]
  },
  {
   "cell_type": "code",
   "execution_count": null,
   "id": "a0e13e98",
   "metadata": {},
   "outputs": [],
   "source": []
  },
  {
   "cell_type": "code",
   "execution_count": null,
   "id": "b108f3db",
   "metadata": {},
   "outputs": [],
   "source": []
  },
  {
   "cell_type": "code",
   "execution_count": null,
   "id": "2c2e89d9",
   "metadata": {},
   "outputs": [],
   "source": []
  }
 ],
 "metadata": {
  "kernelspec": {
   "display_name": "Python 3 (ipykernel)",
   "language": "python",
   "name": "python3"
  },
  "language_info": {
   "codemirror_mode": {
    "name": "ipython",
    "version": 3
   },
   "file_extension": ".py",
   "mimetype": "text/x-python",
   "name": "python",
   "nbconvert_exporter": "python",
   "pygments_lexer": "ipython3",
   "version": "3.10.4"
  }
 },
 "nbformat": 4,
 "nbformat_minor": 5
}
