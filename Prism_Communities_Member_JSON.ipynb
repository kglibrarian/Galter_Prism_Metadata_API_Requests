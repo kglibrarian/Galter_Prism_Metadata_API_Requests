{
 "cells": [
  {
   "cell_type": "code",
   "execution_count": null,
   "id": "f0339566",
   "metadata": {},
   "outputs": [],
   "source": [
    "# Dependencies\n",
    "import requests\n",
    "from requests.exceptions import HTTPError\n",
    "import json\n",
    "import pandas as pd\n",
    "import numpy as np\n",
    "import re\n",
    "import io\n",
    "from config import api_key_prism\n",
    "from collections import OrderedDict\n",
    "from pandas.io.json import json_normalize  \n",
    "import time \n",
    "import urllib.request\n",
    "from pprint import pprint"
   ]
  },
  {
   "cell_type": "code",
   "execution_count": null,
   "id": "0b508254",
   "metadata": {},
   "outputs": [],
   "source": [
    "## Open the NUCATS Grants Repository file which includes all the readers needed in Prism. \n",
    "\n",
    "with open(r'data\\NUCATS_Grants_Repository_Members.csv') as f:\n",
    "    nucats_grants_member_data = pd.read_csv(f)\n",
    "\n",
    "\n",
    "nucats_grants_member_data.head()"
   ]
  },
  {
   "cell_type": "code",
   "execution_count": null,
   "id": "4b36bf28",
   "metadata": {},
   "outputs": [],
   "source": [
    "# reader_json = nucats_grants_member_data.apply(list).to_json()\n",
    "# print(reader_json)\n",
    "\n",
    "reader_json = nucats_grants_member_data.apply(lambda x: '\"'+ x.NetID + '\"'+ \":\" + '\"'+ x[\"Email address\"] + '\"'+\",\", axis=1)\n",
    "print(type(reader_json))\n",
    "print(reader_json)"
   ]
  },
  {
   "cell_type": "code",
   "execution_count": null,
   "id": "2d45993b",
   "metadata": {},
   "outputs": [],
   "source": [
    "reader_json.to_excel(r\"outputs\\nucats_membership.xlsx\") \n",
    "\n"
   ]
  },
  {
   "cell_type": "code",
   "execution_count": null,
   "id": "6ea203d1",
   "metadata": {},
   "outputs": [],
   "source": []
  }
 ],
 "metadata": {
  "kernelspec": {
   "display_name": "Python 3 (ipykernel)",
   "language": "python",
   "name": "python3"
  },
  "language_info": {
   "codemirror_mode": {
    "name": "ipython",
    "version": 3
   },
   "file_extension": ".py",
   "mimetype": "text/x-python",
   "name": "python",
   "nbconvert_exporter": "python",
   "pygments_lexer": "ipython3",
   "version": "3.9.12"
  }
 },
 "nbformat": 4,
 "nbformat_minor": 5
}
